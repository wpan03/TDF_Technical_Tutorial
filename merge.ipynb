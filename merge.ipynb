{
 "cells": [
  {
   "cell_type": "code",
   "execution_count": 3,
   "metadata": {},
   "outputs": [],
   "source": [
    "import pandas as pd"
   ]
  },
  {
   "cell_type": "code",
   "execution_count": 38,
   "metadata": {},
   "outputs": [],
   "source": [
    "df_export= pd.read_csv('https://raw.githubusercontent.com/wpan03/TDF_Technical_Tutorial/master/merge/South_Africa.csv')"
   ]
  },
  {
   "cell_type": "code",
   "execution_count": 39,
   "metadata": {},
   "outputs": [],
   "source": [
    "df_stage2 = pd.read_csv('https://raw.githubusercontent.com/wpan03/TDF_Technical_Tutorial/master/merge/sample_stage2.csv')"
   ]
  },
  {
   "cell_type": "code",
   "execution_count": 19,
   "metadata": {},
   "outputs": [
    {
     "output_type": "execute_result",
     "data": {
      "text/plain": "Index(['project_id', 'recommended_for_research', 'umbrella_project', 'donor',\n       'title'],\n      dtype='object')"
     },
     "metadata": {},
     "execution_count": 19
    }
   ],
   "source": [
    "df_export.columns[0:5]"
   ]
  },
  {
   "cell_type": "code",
   "execution_count": 30,
   "metadata": {},
   "outputs": [
    {
     "output_type": "execute_result",
     "data": {
      "text/plain": "Index(['PROJECT_ID', ' flow_class', ' year'], dtype='object')"
     },
     "metadata": {},
     "execution_count": 30
    }
   ],
   "source": [
    "df_stage2.columns"
   ]
  },
  {
   "cell_type": "code",
   "execution_count": 31,
   "metadata": {},
   "outputs": [
    {
     "output_type": "execute_result",
     "data": {
      "text/plain": "   project_id  flow_class   year\n0       31303                NaN\n1       31302                NaN\n2       16372                NaN",
      "text/html": "<div>\n<style scoped>\n    .dataframe tbody tr th:only-of-type {\n        vertical-align: middle;\n    }\n\n    .dataframe tbody tr th {\n        vertical-align: top;\n    }\n\n    .dataframe thead th {\n        text-align: right;\n    }\n</style>\n<table border=\"1\" class=\"dataframe\">\n  <thead>\n    <tr style=\"text-align: right;\">\n      <th></th>\n      <th>project_id</th>\n      <th>flow_class</th>\n      <th>year</th>\n    </tr>\n  </thead>\n  <tbody>\n    <tr>\n      <td>0</td>\n      <td>31303</td>\n      <td></td>\n      <td>NaN</td>\n    </tr>\n    <tr>\n      <td>1</td>\n      <td>31302</td>\n      <td></td>\n      <td>NaN</td>\n    </tr>\n    <tr>\n      <td>2</td>\n      <td>16372</td>\n      <td></td>\n      <td>NaN</td>\n    </tr>\n  </tbody>\n</table>\n</div>"
     },
     "metadata": {},
     "execution_count": 31
    }
   ],
   "source": [
    "df_stage2 = df_stage2.rename(columns={'PROJECT_ID': \"project_id\"})\n",
    "df_stage2.head()"
   ]
  },
  {
   "cell_type": "code",
   "execution_count": 32,
   "metadata": {},
   "outputs": [
    {
     "output_type": "execute_result",
     "data": {
      "text/plain": "   project_id  recommended_for_research  umbrella_project  donor  \\\n0       45671                      True             False  China   \n1       45680                      True             False  China   \n2       16385                      True             False  China   \n3       15682                      True             False  China   \n4       15881                      True             False  China   \n\n                                               title  year  year_uncertain  \\\n0  (Kyra Solomon training project 11) China funds...  2012            True   \n1  (Kyra Solomon training project 12) China acqui...  2011           False   \n2  (deactivated - no $, commercial) Mining cooper...  2007           False   \n3                 Agreement on investment protection  2000           False   \n4                                 Agreement on taxes  2000           False   \n\n                                         description  crs_sector_code  \\\n0  In 2012, Standard Bank of South Africa worked ...            160.0   \n1  As part of a steady stream of Chinese investme...            320.0   \n2  In 2007, China and South Africa signed a coope...            320.0   \n3  In 2000, President Jiang Zemin and President T...            240.0   \n4  In 2000, Chinese President Jiang Zemin and Sou...            330.0   \n\n                            crs_sector_name  ... is_ground_truthing loan_type  \\\n0  Other Social infrastructure and services  ...              False       NaN   \n1            Industry, Mining, Construction  ...              False       NaN   \n2            Industry, Mining, Construction  ...              False       NaN   \n3            Banking and Financial Services  ...              False       NaN   \n4                         Trade and Tourism  ...              False       NaN   \n\n   interest_rate maturity grace_period grant_element  \\\n0            NaN      NaN          NaN           NaN   \n1            NaN      NaN          NaN           NaN   \n2            NaN      NaN          NaN           NaN   \n3            NaN      NaN          NaN           NaN   \n4            NaN      NaN          NaN           NaN   \n\n                  updated_at location_details  \\\n0  2017-06-13 14:32:04 -0400              NaN   \n1  2017-06-13 14:32:22 -0400              NaN   \n2  2017-01-02 22:50:02 -0500              NaN   \n3  2013-03-27 23:51:58 -0400              NaN   \n4  2013-03-26 15:42:23 -0400              NaN   \n\n                                contacts is_official_finance  \n0                                    NaN                   0  \n1                                    NaN                   0  \n2                                    NaN                   0  \n3                                    NaN                   0  \n4  Ron van der Merwe, ; Atiku Abubakar,                    0  \n\n[5 rows x 64 columns]",
      "text/html": "<div>\n<style scoped>\n    .dataframe tbody tr th:only-of-type {\n        vertical-align: middle;\n    }\n\n    .dataframe tbody tr th {\n        vertical-align: top;\n    }\n\n    .dataframe thead th {\n        text-align: right;\n    }\n</style>\n<table border=\"1\" class=\"dataframe\">\n  <thead>\n    <tr style=\"text-align: right;\">\n      <th></th>\n      <th>project_id</th>\n      <th>recommended_for_research</th>\n      <th>umbrella_project</th>\n      <th>donor</th>\n      <th>title</th>\n      <th>year</th>\n      <th>year_uncertain</th>\n      <th>description</th>\n      <th>crs_sector_code</th>\n      <th>crs_sector_name</th>\n      <th>...</th>\n      <th>is_ground_truthing</th>\n      <th>loan_type</th>\n      <th>interest_rate</th>\n      <th>maturity</th>\n      <th>grace_period</th>\n      <th>grant_element</th>\n      <th>updated_at</th>\n      <th>location_details</th>\n      <th>contacts</th>\n      <th>is_official_finance</th>\n    </tr>\n  </thead>\n  <tbody>\n    <tr>\n      <td>0</td>\n      <td>45671</td>\n      <td>True</td>\n      <td>False</td>\n      <td>China</td>\n      <td>(Kyra Solomon training project 11) China funds...</td>\n      <td>2012</td>\n      <td>True</td>\n      <td>In 2012, Standard Bank of South Africa worked ...</td>\n      <td>160.0</td>\n      <td>Other Social infrastructure and services</td>\n      <td>...</td>\n      <td>False</td>\n      <td>NaN</td>\n      <td>NaN</td>\n      <td>NaN</td>\n      <td>NaN</td>\n      <td>NaN</td>\n      <td>2017-06-13 14:32:04 -0400</td>\n      <td>NaN</td>\n      <td>NaN</td>\n      <td>0</td>\n    </tr>\n    <tr>\n      <td>1</td>\n      <td>45680</td>\n      <td>True</td>\n      <td>False</td>\n      <td>China</td>\n      <td>(Kyra Solomon training project 12) China acqui...</td>\n      <td>2011</td>\n      <td>False</td>\n      <td>As part of a steady stream of Chinese investme...</td>\n      <td>320.0</td>\n      <td>Industry, Mining, Construction</td>\n      <td>...</td>\n      <td>False</td>\n      <td>NaN</td>\n      <td>NaN</td>\n      <td>NaN</td>\n      <td>NaN</td>\n      <td>NaN</td>\n      <td>2017-06-13 14:32:22 -0400</td>\n      <td>NaN</td>\n      <td>NaN</td>\n      <td>0</td>\n    </tr>\n    <tr>\n      <td>2</td>\n      <td>16385</td>\n      <td>True</td>\n      <td>False</td>\n      <td>China</td>\n      <td>(deactivated - no $, commercial) Mining cooper...</td>\n      <td>2007</td>\n      <td>False</td>\n      <td>In 2007, China and South Africa signed a coope...</td>\n      <td>320.0</td>\n      <td>Industry, Mining, Construction</td>\n      <td>...</td>\n      <td>False</td>\n      <td>NaN</td>\n      <td>NaN</td>\n      <td>NaN</td>\n      <td>NaN</td>\n      <td>NaN</td>\n      <td>2017-01-02 22:50:02 -0500</td>\n      <td>NaN</td>\n      <td>NaN</td>\n      <td>0</td>\n    </tr>\n    <tr>\n      <td>3</td>\n      <td>15682</td>\n      <td>True</td>\n      <td>False</td>\n      <td>China</td>\n      <td>Agreement on investment protection</td>\n      <td>2000</td>\n      <td>False</td>\n      <td>In 2000, President Jiang Zemin and President T...</td>\n      <td>240.0</td>\n      <td>Banking and Financial Services</td>\n      <td>...</td>\n      <td>False</td>\n      <td>NaN</td>\n      <td>NaN</td>\n      <td>NaN</td>\n      <td>NaN</td>\n      <td>NaN</td>\n      <td>2013-03-27 23:51:58 -0400</td>\n      <td>NaN</td>\n      <td>NaN</td>\n      <td>0</td>\n    </tr>\n    <tr>\n      <td>4</td>\n      <td>15881</td>\n      <td>True</td>\n      <td>False</td>\n      <td>China</td>\n      <td>Agreement on taxes</td>\n      <td>2000</td>\n      <td>False</td>\n      <td>In 2000, Chinese President Jiang Zemin and Sou...</td>\n      <td>330.0</td>\n      <td>Trade and Tourism</td>\n      <td>...</td>\n      <td>False</td>\n      <td>NaN</td>\n      <td>NaN</td>\n      <td>NaN</td>\n      <td>NaN</td>\n      <td>NaN</td>\n      <td>2013-03-26 15:42:23 -0400</td>\n      <td>NaN</td>\n      <td>Ron van der Merwe, ; Atiku Abubakar,</td>\n      <td>0</td>\n    </tr>\n  </tbody>\n</table>\n<p>5 rows × 64 columns</p>\n</div>"
     },
     "metadata": {},
     "execution_count": 32
    }
   ],
   "source": [
    "df_export.head()"
   ]
  },
  {
   "cell_type": "code",
   "execution_count": 33,
   "metadata": {},
   "outputs": [],
   "source": [
    "df_merge = pd.merge(df_stage2, df_export, on='project_id', how='left')"
   ]
  },
  {
   "cell_type": "code",
   "execution_count": 37,
   "metadata": {},
   "outputs": [
    {
     "output_type": "execute_result",
     "data": {
      "text/plain": "   project_id  year flow_class\n0       31303  2013   OOF-like\n1       31302  2007   OOF-like\n2       16372  2006   OOF-like",
      "text/html": "<div>\n<style scoped>\n    .dataframe tbody tr th:only-of-type {\n        vertical-align: middle;\n    }\n\n    .dataframe tbody tr th {\n        vertical-align: top;\n    }\n\n    .dataframe thead th {\n        text-align: right;\n    }\n</style>\n<table border=\"1\" class=\"dataframe\">\n  <thead>\n    <tr style=\"text-align: right;\">\n      <th></th>\n      <th>project_id</th>\n      <th>year</th>\n      <th>flow_class</th>\n    </tr>\n  </thead>\n  <tbody>\n    <tr>\n      <td>0</td>\n      <td>31303</td>\n      <td>2013</td>\n      <td>OOF-like</td>\n    </tr>\n    <tr>\n      <td>1</td>\n      <td>31302</td>\n      <td>2007</td>\n      <td>OOF-like</td>\n    </tr>\n    <tr>\n      <td>2</td>\n      <td>16372</td>\n      <td>2006</td>\n      <td>OOF-like</td>\n    </tr>\n  </tbody>\n</table>\n</div>"
     },
     "metadata": {},
     "execution_count": 37
    }
   ],
   "source": [
    "df_merge[['project_id','year','flow_class']].head()"
   ]
  }
 ],
 "metadata": {
  "file_extension": ".py",
  "kernelspec": {
   "display_name": "Python 3",
   "language": "python",
   "name": "python3"
  },
  "language_info": {
   "codemirror_mode": {
    "name": "ipython",
    "version": 3
   },
   "file_extension": ".py",
   "mimetype": "text/x-python",
   "name": "python",
   "nbconvert_exporter": "python",
   "pygments_lexer": "ipython3",
   "version": "3.7.3-final"
  },
  "mimetype": "text/x-python",
  "name": "python",
  "npconvert_exporter": "python",
  "pygments_lexer": "ipython3",
  "version": 3
 },
 "nbformat": 4,
 "nbformat_minor": 4
}