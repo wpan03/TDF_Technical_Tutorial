{
 "cells": [
  {
   "cell_type": "code",
   "execution_count": 1,
   "metadata": {},
   "outputs": [],
   "source": [
    "import pandas as pd\n",
    "import os"
   ]
  },
  {
   "cell_type": "markdown",
   "metadata": {
    "colab_type": "text",
    "id": "0EdpHo4LDcMj"
   },
   "source": [
    "### Get Stage 1 OCP Created Projects"
   ]
  },
  {
   "cell_type": "code",
   "execution_count": 2,
   "metadata": {},
   "outputs": [],
   "source": [
    "country = 'Cote'\n",
    "file_name = 'Africa_QA/{}.xlsx'.format(country)"
   ]
  },
  {
   "cell_type": "code",
   "execution_count": 3,
   "metadata": {},
   "outputs": [],
   "source": [
    "def reshape_dataframe(df):    \n",
    "    \"\"\"\n",
    "    Only keep columns with created projects information in the dataframe\n",
    "    \n",
    "    Parameters\n",
    "    ----------\n",
    "    df : pd.DataFrame\n",
    "        a dataframe with format from general tab of OCP spreadsheet \n",
    "        \n",
    "    Returns\n",
    "    -------\n",
    "    df : pd.DataFrame\n",
    "    the shrinked dataframe \n",
    "    \"\"\" \n",
    "    filter_col = [col for col in df if col.startswith('Projects Created')]\n",
    "    df = df[filter_col]\n",
    "    df = df.dropna(axis=1,how='all')\n",
    "    df = df.melt().dropna(axis=0)\n",
    "    return df"
   ]
  },
  {
   "cell_type": "code",
   "execution_count": 12,
   "metadata": {},
   "outputs": [],
   "source": [
    "def get_create_ocp(path):\n",
    "  \n",
    "  #Get all the tab name in the excel sheet\n",
    "  store = []\n",
    "  all_sheet = pd.ExcelFile(os.path.join(file_name))\n",
    "  sheets = all_sheet.sheet_names  \n",
    "\n",
    "  #merge the created project id in each tab\n",
    "  for i in range(len(sheets)):\n",
    "    if i == 0:\n",
    "      df = pd.read_excel(file_name, sheet_name=sheets[i],skiprows=[0])\n",
    "      df = reshape_dataframe(df)\n",
    "      df_select = df.loc[:,['value']].reset_index(drop=True)\n",
    "      df_select.columns = ['Projects Created']\n",
    "    elif i == 1:\n",
    "      df = pd.read_excel(file_name, sheet_name=sheets[i])\n",
    "      df_select = df[['Created Project ID']]\n",
    "      df_select.columns = ['Projects Created']\n",
    "    elif i >= 2:\n",
    "      df = pd.read_excel(file_name, sheet_name=sheets[i])\n",
    "      df_select = df[['Projects Created']]\n",
    "    \n",
    "    store.append(df_select)\n",
    "    df = pd.concat(store).dropna().reset_index(drop=True)\n",
    "\n",
    "  #break projects in one cell to one project per row \n",
    "  df['Projects Created'] = df['Projects Created'].astype(str)\n",
    "  special = df['Projects Created'].str.split(',').notnull()\n",
    "  df.loc[special, 'Projects Created'] = df[special]['Projects Created'].str.split(',')\n",
    "  df = df.explode('Projects Created')\n",
    "\n",
    "  #Format each cell\n",
    "  df['Projects Created'] = df['Projects Created'].astype(str)\n",
    "  special1 = df['Projects Created'].str.strip().notnull()\n",
    "  df.loc[special1, 'Projects Created'] = df[special1]['Projects Created'].str.strip()\n",
    "\n",
    "  #Drop duplicate\n",
    "  df_clean = df.drop_duplicates('Projects Created').reset_index(drop=True)\n",
    "\n",
    "  return df_clean"
   ]
  },
  {
   "cell_type": "code",
   "execution_count": 36,
   "metadata": {},
   "outputs": [
    {
     "data": {
      "text/plain": [
       "(53, 3)"
      ]
     },
     "execution_count": 36,
     "metadata": {},
     "output_type": "execute_result"
    }
   ],
   "source": [
    "df_ocp = get_create_ocp(file_name)\n",
    "df_ocp['source'] = 'OCP'\n",
    "df_ocp['country'] = country\n",
    "df_ocp.shape"
   ]
  },
  {
   "cell_type": "code",
   "execution_count": 35,
   "metadata": {},
   "outputs": [],
   "source": [
    "df_ocp.to_excel('stage1_projects.xlsx')"
   ]
  },
  {
   "cell_type": "markdown",
   "metadata": {
    "colab_type": "text",
    "id": "k26wmDDABXPc"
   },
   "source": [
    "### Get Stage 1 DNA Created Projects"
   ]
  },
  {
   "cell_type": "code",
   "execution_count": 96,
   "metadata": {},
   "outputs": [],
   "source": [
    "def get_created_dna(file_name, country):\n",
    "    df = pd.read_excel(file_name, sheet_name='Stage 1')\n",
    "    df_target = df[df['Country'] == country].reset_index(drop=True)\n",
    "    return df_target['Projects Created']"
   ]
  },
  {
   "cell_type": "code",
   "execution_count": 97,
   "metadata": {},
   "outputs": [],
   "source": [
    "dna_file_name = 'Africa_QA/Africa_DNA.xlsx'"
   ]
  },
  {
   "cell_type": "code",
   "execution_count": 98,
   "metadata": {},
   "outputs": [
    {
     "data": {
      "text/plain": [
       "Series([], Name: Projects Created, dtype: object)"
      ]
     },
     "execution_count": 98,
     "metadata": {},
     "output_type": "execute_result"
    }
   ],
   "source": [
    "dna = get_created_dna(dna_file_name, country)\n",
    "dna"
   ]
  },
  {
   "cell_type": "code",
   "execution_count": null,
   "metadata": {},
   "outputs": [],
   "source": [
    "for i in dna[0].split(','):\n",
    "    print(i)"
   ]
  },
  {
   "cell_type": "code",
   "execution_count": null,
   "metadata": {},
   "outputs": [],
   "source": []
  }
 ],
 "metadata": {
  "accelerator": "GPU",
  "colab": {
   "collapsed_sections": [],
   "name": "Get_OCP_Created.ipynb",
   "provenance": []
  },
  "kernelspec": {
   "display_name": "Python 3",
   "language": "python",
   "name": "python3"
  },
  "language_info": {
   "codemirror_mode": {
    "name": "ipython",
    "version": 3
   },
   "file_extension": ".py",
   "mimetype": "text/x-python",
   "name": "python",
   "nbconvert_exporter": "python",
   "pygments_lexer": "ipython3",
   "version": "3.7.3"
  }
 },
 "nbformat": 4,
 "nbformat_minor": 4
}
