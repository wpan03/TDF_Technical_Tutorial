{
 "cells": [
  {
   "cell_type": "code",
   "execution_count": 23,
   "metadata": {},
   "outputs": [],
   "source": [
    "import pandas as pd"
   ]
  },
  {
   "cell_type": "code",
   "execution_count": 24,
   "metadata": {},
   "outputs": [],
   "source": [
    "df = pd.read_csv('https://raw.githubusercontent.com/wpan03/TDF_Technical_Tutorial/master/transfer/sample_stage1.csv')"
   ]
  },
  {
   "cell_type": "code",
   "execution_count": 25,
   "metadata": {},
   "outputs": [
    {
     "output_type": "execute_result",
     "data": {
      "text/plain": "  Source                                   Projects Amended\n0      A                                  1206, 1192, 1206 \n1      B  57906, 1240, 41580, 1221, 21250, 1230, 1192, 1206\n2      C                                                NaN\n3      D  53147, 22008, 758, 57430, 35668,1230, 34621, 3...\n4      E                                   22071, 766, 1206",
      "text/html": "<div>\n<style scoped>\n    .dataframe tbody tr th:only-of-type {\n        vertical-align: middle;\n    }\n\n    .dataframe tbody tr th {\n        vertical-align: top;\n    }\n\n    .dataframe thead th {\n        text-align: right;\n    }\n</style>\n<table border=\"1\" class=\"dataframe\">\n  <thead>\n    <tr style=\"text-align: right;\">\n      <th></th>\n      <th>Source</th>\n      <th>Projects Amended</th>\n    </tr>\n  </thead>\n  <tbody>\n    <tr>\n      <td>0</td>\n      <td>A</td>\n      <td>1206, 1192, 1206</td>\n    </tr>\n    <tr>\n      <td>1</td>\n      <td>B</td>\n      <td>57906, 1240, 41580, 1221, 21250, 1230, 1192, 1206</td>\n    </tr>\n    <tr>\n      <td>2</td>\n      <td>C</td>\n      <td>NaN</td>\n    </tr>\n    <tr>\n      <td>3</td>\n      <td>D</td>\n      <td>53147, 22008, 758, 57430, 35668,1230, 34621, 3...</td>\n    </tr>\n    <tr>\n      <td>4</td>\n      <td>E</td>\n      <td>22071, 766, 1206</td>\n    </tr>\n  </tbody>\n</table>\n</div>"
     },
     "metadata": {},
     "execution_count": 25
    }
   ],
   "source": [
    "df = df.rename(columns={'Projects Amended (All Years)': \"Projects Amended\"})\n",
    "df.head()"
   ]
  },
  {
   "cell_type": "code",
   "execution_count": 26,
   "metadata": {},
   "outputs": [],
   "source": [
    "df['Projects Amended'] = df['Projects Amended'].astype(str)"
   ]
  },
  {
   "cell_type": "code",
   "execution_count": 27,
   "metadata": {},
   "outputs": [
    {
     "output_type": "execute_result",
     "data": {
      "text/plain": "  Source Projects Amended\n0      A             1206\n0      A             1192\n0      A            1206 \n1      B            57906\n1      B             1240\n1      B            41580\n1      B             1221\n1      B            21250\n1      B             1230\n1      B             1192",
      "text/html": "<div>\n<style scoped>\n    .dataframe tbody tr th:only-of-type {\n        vertical-align: middle;\n    }\n\n    .dataframe tbody tr th {\n        vertical-align: top;\n    }\n\n    .dataframe thead th {\n        text-align: right;\n    }\n</style>\n<table border=\"1\" class=\"dataframe\">\n  <thead>\n    <tr style=\"text-align: right;\">\n      <th></th>\n      <th>Source</th>\n      <th>Projects Amended</th>\n    </tr>\n  </thead>\n  <tbody>\n    <tr>\n      <td>0</td>\n      <td>A</td>\n      <td>1206</td>\n    </tr>\n    <tr>\n      <td>0</td>\n      <td>A</td>\n      <td>1192</td>\n    </tr>\n    <tr>\n      <td>0</td>\n      <td>A</td>\n      <td>1206</td>\n    </tr>\n    <tr>\n      <td>1</td>\n      <td>B</td>\n      <td>57906</td>\n    </tr>\n    <tr>\n      <td>1</td>\n      <td>B</td>\n      <td>1240</td>\n    </tr>\n    <tr>\n      <td>1</td>\n      <td>B</td>\n      <td>41580</td>\n    </tr>\n    <tr>\n      <td>1</td>\n      <td>B</td>\n      <td>1221</td>\n    </tr>\n    <tr>\n      <td>1</td>\n      <td>B</td>\n      <td>21250</td>\n    </tr>\n    <tr>\n      <td>1</td>\n      <td>B</td>\n      <td>1230</td>\n    </tr>\n    <tr>\n      <td>1</td>\n      <td>B</td>\n      <td>1192</td>\n    </tr>\n  </tbody>\n</table>\n</div>"
     },
     "metadata": {},
     "execution_count": 27
    }
   ],
   "source": [
    "special = df['Projects Amended'].str.split(',').notnull()\n",
    "df.loc[special, 'Projects Amended'] = df[special]['Projects Amended'].str.split(',')\n",
    "df = df.explode('Projects Amended')\n",
    "df.head(10)"
   ]
  },
  {
   "cell_type": "code",
   "execution_count": 29,
   "metadata": {},
   "outputs": [],
   "source": [
    "df['Projects Amended'] = df['Projects Amended'].astype(str)\n",
    "special1 = df['Projects Amended'].str.strip().notnull()\n",
    "df.loc[special1, 'Projects Amended'] = df[special1]['Projects Amended'].str.strip()\n",
    "df_transfered = df.drop_duplicates('Projects Amended').reset_index(drop=True)"
   ]
  },
  {
   "cell_type": "code",
   "execution_count": 30,
   "metadata": {},
   "outputs": [
    {
     "output_type": "execute_result",
     "data": {
      "text/plain": "   Source Projects Amended\n0       A             1206\n1       A             1192\n2       B            57906\n3       B             1240\n4       B            41580\n5       B             1221\n6       B            21250\n7       B             1230\n8       C              nan\n9       D            53147\n10      D            22008\n11      D              758\n12      D            57430\n13      D            35668\n14      D            34621\n15      D            33904\n16      D            57607\n17      D             1222\n18      D             1238\n19      D            50130\n20      D            22071\n21      D            57629\n22      D            27498\n23      D             2006\n24      D            21449\n25      D             1119\n26      D            21904\n27      D              766\n28      D            57394\n29      D            57395\n30      D            57399\n31      D            30376\n32      D            57313",
      "text/html": "<div>\n<style scoped>\n    .dataframe tbody tr th:only-of-type {\n        vertical-align: middle;\n    }\n\n    .dataframe tbody tr th {\n        vertical-align: top;\n    }\n\n    .dataframe thead th {\n        text-align: right;\n    }\n</style>\n<table border=\"1\" class=\"dataframe\">\n  <thead>\n    <tr style=\"text-align: right;\">\n      <th></th>\n      <th>Source</th>\n      <th>Projects Amended</th>\n    </tr>\n  </thead>\n  <tbody>\n    <tr>\n      <td>0</td>\n      <td>A</td>\n      <td>1206</td>\n    </tr>\n    <tr>\n      <td>1</td>\n      <td>A</td>\n      <td>1192</td>\n    </tr>\n    <tr>\n      <td>2</td>\n      <td>B</td>\n      <td>57906</td>\n    </tr>\n    <tr>\n      <td>3</td>\n      <td>B</td>\n      <td>1240</td>\n    </tr>\n    <tr>\n      <td>4</td>\n      <td>B</td>\n      <td>41580</td>\n    </tr>\n    <tr>\n      <td>5</td>\n      <td>B</td>\n      <td>1221</td>\n    </tr>\n    <tr>\n      <td>6</td>\n      <td>B</td>\n      <td>21250</td>\n    </tr>\n    <tr>\n      <td>7</td>\n      <td>B</td>\n      <td>1230</td>\n    </tr>\n    <tr>\n      <td>8</td>\n      <td>C</td>\n      <td>nan</td>\n    </tr>\n    <tr>\n      <td>9</td>\n      <td>D</td>\n      <td>53147</td>\n    </tr>\n    <tr>\n      <td>10</td>\n      <td>D</td>\n      <td>22008</td>\n    </tr>\n    <tr>\n      <td>11</td>\n      <td>D</td>\n      <td>758</td>\n    </tr>\n    <tr>\n      <td>12</td>\n      <td>D</td>\n      <td>57430</td>\n    </tr>\n    <tr>\n      <td>13</td>\n      <td>D</td>\n      <td>35668</td>\n    </tr>\n    <tr>\n      <td>14</td>\n      <td>D</td>\n      <td>34621</td>\n    </tr>\n    <tr>\n      <td>15</td>\n      <td>D</td>\n      <td>33904</td>\n    </tr>\n    <tr>\n      <td>16</td>\n      <td>D</td>\n      <td>57607</td>\n    </tr>\n    <tr>\n      <td>17</td>\n      <td>D</td>\n      <td>1222</td>\n    </tr>\n    <tr>\n      <td>18</td>\n      <td>D</td>\n      <td>1238</td>\n    </tr>\n    <tr>\n      <td>19</td>\n      <td>D</td>\n      <td>50130</td>\n    </tr>\n    <tr>\n      <td>20</td>\n      <td>D</td>\n      <td>22071</td>\n    </tr>\n    <tr>\n      <td>21</td>\n      <td>D</td>\n      <td>57629</td>\n    </tr>\n    <tr>\n      <td>22</td>\n      <td>D</td>\n      <td>27498</td>\n    </tr>\n    <tr>\n      <td>23</td>\n      <td>D</td>\n      <td>2006</td>\n    </tr>\n    <tr>\n      <td>24</td>\n      <td>D</td>\n      <td>21449</td>\n    </tr>\n    <tr>\n      <td>25</td>\n      <td>D</td>\n      <td>1119</td>\n    </tr>\n    <tr>\n      <td>26</td>\n      <td>D</td>\n      <td>21904</td>\n    </tr>\n    <tr>\n      <td>27</td>\n      <td>D</td>\n      <td>766</td>\n    </tr>\n    <tr>\n      <td>28</td>\n      <td>D</td>\n      <td>57394</td>\n    </tr>\n    <tr>\n      <td>29</td>\n      <td>D</td>\n      <td>57395</td>\n    </tr>\n    <tr>\n      <td>30</td>\n      <td>D</td>\n      <td>57399</td>\n    </tr>\n    <tr>\n      <td>31</td>\n      <td>D</td>\n      <td>30376</td>\n    </tr>\n    <tr>\n      <td>32</td>\n      <td>D</td>\n      <td>57313</td>\n    </tr>\n  </tbody>\n</table>\n</div>"
     },
     "metadata": {},
     "execution_count": 30
    }
   ],
   "source": [
    "df_transfered"
   ]
  },
  {
   "cell_type": "code",
   "execution_count": null,
   "metadata": {},
   "outputs": [],
   "source": []
  }
 ],
 "metadata": {
  "kernelspec": {
   "display_name": "Python 3",
   "language": "python",
   "name": "python3"
  },
  "language_info": {
   "codemirror_mode": {
    "name": "ipython",
    "version": 3
   },
   "file_extension": ".py",
   "mimetype": "text/x-python",
   "name": "python",
   "nbconvert_exporter": "python",
   "pygments_lexer": "ipython3",
   "version": "3.7.3-final"
  }
 },
 "nbformat": 4,
 "nbformat_minor": 4
}